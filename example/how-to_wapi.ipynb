{
 "cells": [
  {
   "attachments": {},
   "cell_type": "markdown",
   "metadata": {},
   "source": [
    "# How-to wapi"
   ]
  },
  {
   "attachments": {},
   "cell_type": "markdown",
   "metadata": {},
   "source": [
    "## What is a curve?"
   ]
  },
  {
   "attachments": {},
   "cell_type": "markdown",
   "metadata": {},
   "source": [
    "Curve is a combination of metadata (or attributes to define a curve) and timeseries data. Metadata is stored in Postgres database, timeseries data is stored in Cassandra.\n",
    "\n",
    "[Example](https://api.wsight.org/#curves/28750)\n",
    "\n",
    "![wapi-overview](wapi-overview.png)\n"
   ]
  },
  {
   "cell_type": "markdown",
   "metadata": {},
   "source": []
  },
  {
   "attachments": {},
   "cell_type": "markdown",
   "metadata": {},
   "source": [
    "## Query curves with web api"
   ]
  },
  {
   "attachments": {},
   "cell_type": "markdown",
   "metadata": {},
   "source": [
    "dev: [api.wsight.org](https://api.wsight.org)\n",
    "\n",
    "production: [api.volueinsight.com](https://api.volueinsight.org)"
   ]
  },
  {
   "attachments": {},
   "cell_type": "markdown",
   "metadata": {},
   "source": [
    "## [wapi-python](https://github.com/volueinsight/wapi-python)"
   ]
  },
  {
   "attachments": {},
   "cell_type": "markdown",
   "metadata": {},
   "source": [
    "[API docs](https://wattsight-wapi-python.readthedocs-hosted.com/en/latest/quickstart.html)"
   ]
  },
  {
   "cell_type": "code",
   "execution_count": null,
   "metadata": {},
   "outputs": [],
   "source": [
    "# install wapi-python package\n",
    "! pip install wapi-python"
   ]
  },
  {
   "attachments": {},
   "cell_type": "markdown",
   "metadata": {},
   "source": [
    "### Session"
   ]
  },
  {
   "cell_type": "code",
   "execution_count": 2,
   "metadata": {},
   "outputs": [],
   "source": [
    "import wapi\n",
    "session = wapi.Session(config_file=\"/enter/your/config/file/here\", retry_update_auth=True)"
   ]
  },
  {
   "cell_type": "code",
   "execution_count": 3,
   "metadata": {},
   "outputs": [
    {
     "name": "stdout",
     "output_type": "stream",
     "text": [
      "[common]\n",
      "urlbase = https://api.wsight.org\n",
      "auth_type = OAuth\n",
      "timeout = 300\n",
      "\n",
      "[OAuth]\n",
      "id = ***\n",
      "secret = ***\n",
      "auth_urlbase = https://auth.wattsight.com\n"
     ]
    }
   ],
   "source": [
    "# see config file content\n",
    "! cat /enter/your/config/file/here.ini"
   ]
  },
  {
   "attachments": {},
   "cell_type": "markdown",
   "metadata": {},
   "source": [
    "### Curve metadata"
   ]
  },
  {
   "cell_type": "code",
   "execution_count": 5,
   "metadata": {},
   "outputs": [
    {
     "data": {
      "text/plain": [
       "{'id': 4409,\n",
       " 'name': 'tt de con °c cet min15 s',\n",
       " 'frequency': 'MIN15',\n",
       " 'time_zone': 'CET',\n",
       " 'curve_type': 'TIME_SERIES',\n",
       " 'curve_state': 'PUBLIC',\n",
       " 'storage': 'ALIAS',\n",
       " 'created': '2018-04-17T11:29:22.247875+02:00',\n",
       " 'modified': '2023-06-20T10:29:49.755+02:00',\n",
       " 'area': 'DE',\n",
       " 'categories': ['TT', 'CON'],\n",
       " 'commodity': 'POW',\n",
       " 'unit': '°C',\n",
       " 'hasAccess': True,\n",
       " 'accessRange': {'begin': None, 'end': None},\n",
       " 'data_type': 'S',\n",
       " 'description': ''}"
      ]
     },
     "execution_count": 5,
     "metadata": {},
     "output_type": "execute_result"
    }
   ],
   "source": [
    "curve_name = 'tt de con °c cet min15 s'\n",
    "curve = session.get_curve(name=curve_name)\n",
    "curve.__dict__[\"_metadata\"]"
   ]
  },
  {
   "attachments": {},
   "cell_type": "markdown",
   "metadata": {},
   "source": [
    "More on [curves type](https://volueinsight.com/docs/curve-types.html)\n",
    "\n",
    "More on [curves data type](https://volueinsight.com/docs/data-types.html)"
   ]
  },
  {
   "attachments": {},
   "cell_type": "markdown",
   "metadata": {},
   "source": [
    "### Get data for Timeseries curves"
   ]
  },
  {
   "cell_type": "code",
   "execution_count": 7,
   "metadata": {},
   "outputs": [
    {
     "data": {
      "text/plain": [
       "2023-06-06 00:00:00+02:00    15.2\n",
       "2023-06-06 00:15:00+02:00    15.2\n",
       "2023-06-06 00:30:00+02:00    15.2\n",
       "2023-06-06 00:45:00+02:00    15.2\n",
       "2023-06-06 01:00:00+02:00    14.3\n",
       "Freq: 15T, Name: tt de con °c cet min15 s, dtype: float64"
      ]
     },
     "execution_count": 7,
     "metadata": {},
     "output_type": "execute_result"
    }
   ],
   "source": [
    "ts = curve.get_data(data_from=\"2023-06-06\", data_to=\"2023-06-20\")\n",
    "# convert to pandas.Series object\n",
    "s = ts.to_pandas()\n",
    "s.head()"
   ]
  },
  {
   "attachments": {},
   "cell_type": "markdown",
   "metadata": {},
   "source": [
    "### Get data for Instance curve"
   ]
  },
  {
   "cell_type": "code",
   "execution_count": 8,
   "metadata": {},
   "outputs": [
    {
     "data": {
      "text/plain": [
       "2023-06-12 02:00:00+02:00    16.0\n",
       "2023-06-12 02:15:00+02:00    16.0\n",
       "2023-06-12 02:30:00+02:00    16.0\n",
       "2023-06-12 02:45:00+02:00    16.0\n",
       "2023-06-12 03:00:00+02:00    15.6\n",
       "Freq: 15T, Name: tt de con ec00 °c cet min15 f 2023-06-12T00:00:00+02:00, dtype: float64"
      ]
     },
     "execution_count": 8,
     "metadata": {},
     "output_type": "execute_result"
    }
   ],
   "source": [
    "instance_curve_name = 'tt de con ec00 °c cet min15 f'\n",
    "# get the curve\n",
    "instance_curve = session.get_curve(name=instance_curve_name)\n",
    "ts = instance_curve.get_instance(issue_date=\"2023-06-12\")\n",
    "s = ts.to_pandas()\n",
    "s.head()"
   ]
  },
  {
   "attachments": {},
   "cell_type": "markdown",
   "metadata": {},
   "source": [
    "### Get data for Tagged curves"
   ]
  },
  {
   "cell_type": "code",
   "execution_count": 13,
   "metadata": {},
   "outputs": [
    {
     "name": "stdout",
     "output_type": "stream",
     "text": [
      "['90-30', '60-0', '60-30', '120-60', '180-120', '240-180', '300-240', '360-300', '420-360', '480-420', '540-480', '600-540', '60_last10', '70_last10', '80_last10', '90_last10', '100_last10', '110_last10', '120_last10', '130_last10', '140_last10', '150_last10', '160_last10', '170_last10', '180_last10', '190_last10', '200_last10', '210_last10', '220_last10', '230_last10', '240_last10', '250_last10', '260_last10', '270_last10', '280_last10', '290_last10', '300_last10', '310_last10', '320_last10', '330_last10', '340_last10', '350_last10', '360_last10', '370_last10', '380_last10', '390_last10', '400_last10', '410_last10', '420_last10', '430_last10', '440_last10', '450_last10', '460_last10', '470_last10', '480_last10', '490_last10', '500_last10', '510_last10', '520_last10', '530_last10']\n"
     ]
    },
    {
     "data": {
      "text/plain": [
       "2022-09-12 00:00:00+02:00    344.37\n",
       "2022-09-12 01:00:00+02:00    333.21\n",
       "2022-09-12 02:00:00+02:00    332.86\n",
       "2022-09-12 03:00:00+02:00    334.98\n",
       "2022-09-12 04:00:00+02:00    356.45\n",
       "Freq: H, Name: pri de intraday 01 €/mwh cet h sa 90-30, dtype: float64"
      ]
     },
     "execution_count": 13,
     "metadata": {},
     "output_type": "execute_result"
    }
   ],
   "source": [
    "tagged_curve_name = \"pri de intraday 01 €/mwh cet h sa\"\n",
    "tagged_curve = session.get_curve(name=tagged_curve_name)\n",
    "print(tagged_curve.get_tags())\n",
    "ts = tagged_curve.get_data(tag=\"90-30\", data_from=\"2022-09-12\", data_to=\"2023-06-20\")\n",
    "ts.to_pandas().head()"
   ]
  },
  {
   "attachments": {},
   "cell_type": "markdown",
   "metadata": {},
   "source": [
    "### Get data for Tagged Instance curves"
   ]
  },
  {
   "cell_type": "code",
   "execution_count": 19,
   "metadata": {},
   "outputs": [
    {
     "data": {
      "text/plain": [
       "2023-06-15 00:00:00+02:00    16.2\n",
       "2023-06-15 00:15:00+02:00    16.2\n",
       "2023-06-15 00:30:00+02:00    16.2\n",
       "2023-06-15 00:45:00+02:00    16.2\n",
       "2023-06-15 01:00:00+02:00    15.4\n",
       "Freq: 15T, Name: tt de con ec00ens 01 °c cet min15 f Avg 2023-06-15T00:00:00+02:00, dtype: float64"
      ]
     },
     "execution_count": 19,
     "metadata": {},
     "output_type": "execute_result"
    }
   ],
   "source": [
    "tagged_instance_curve_name = 'tt de con ec00ens 01 °c cet min15 f'\n",
    "tagged_instance_curve = session.get_curve(name=tagged_instance_curve_name)\n",
    "ts = tagged_instance_curve.get_instance(issue_date=\"2023-06-15\", tag=\"Avg\", with_data=True)\n",
    "# convert to pandas.Series object\n",
    "ts.to_pandas().head()"
   ]
  },
  {
   "attachments": {},
   "cell_type": "markdown",
   "metadata": {
    "pycharm": {
     "name": "#%%\n"
    }
   },
   "source": [
    "## [wapi-python-extensions](https://github.com/volueinsight/wapi-python-extensions)"
   ]
  },
  {
   "attachments": {},
   "cell_type": "markdown",
   "metadata": {},
   "source": [
    "### [How to install](http://docs.wsight.org/services/wapi-python-extensions/20-install/)"
   ]
  },
  {
   "cell_type": "markdown",
   "metadata": {
    "pycharm": {
     "name": "#%%\n"
    }
   },
   "source": [
    "### Query data range"
   ]
  },
  {
   "cell_type": "code",
   "execution_count": 24,
   "metadata": {
    "pycharm": {
     "name": "#%%\n"
    }
   },
   "outputs": [
    {
     "data": {
      "text/plain": [
       "Range(begin=datetime.datetime(2000, 2, 1, 0, 0, tzinfo=<DstTzInfo 'CET' CET+1:00:00 STD>), end=datetime.datetime(2023, 6, 29, 0, 0, tzinfo=<DstTzInfo 'CET' CEST+2:00:00 DST>))"
      ]
     },
     "execution_count": 24,
     "metadata": {},
     "output_type": "execute_result"
    }
   ],
   "source": [
    "from wapi_ext import Session\n",
    "curve_name = 'tt de con °c cet min15 s'\n",
    "session_ext = Session(config_file=\"/enter/your/config/file/here\")\n",
    "curve = session_ext.get_curve(name=curve_name)\n",
    "curve.get_data_range()"
   ]
  },
  {
   "attachments": {},
   "cell_type": "markdown",
   "metadata": {},
   "source": [
    "### Write data to curve"
   ]
  },
  {
   "cell_type": "code",
   "execution_count": 31,
   "metadata": {},
   "outputs": [
    {
     "name": "stderr",
     "output_type": "stream",
     "text": [
      "/var/folders/cv/_d38ds4n1j1dvqr91tc1f6fr0000gn/T/ipykernel_91818/57140427.py:17: FutureWarning: Looking up a curve by ID will be removed in the future.\n",
      "  curve = session.get_curve(id=28750)\n"
     ]
    }
   ],
   "source": [
    "from wapi_ext import Session\n",
    "from wapi.util import TS\n",
    "from datetime import  datetime\n",
    "CONFIG_FILE = 'enter/your/config/file/for/write/here'\n",
    "\n",
    "session = Session(config_file=CONFIG_FILE)\n",
    "\n",
    "values = [(datetime(2022, 7, 11, 0), 10), \n",
    "          (datetime(2022, 7, 11, 1), 20),\n",
    "          (datetime(2022, 7, 11, 2), 30)]\n",
    "points = []\n",
    "for d, val in values:\n",
    "    points.append((int(d.timestamp() * 1000), val))\n",
    "\n",
    "ts = TS(frequency='H', time_zone='CET', points=points)\n",
    "\n",
    "curve = session.get_curve(id=28750)\n",
    "curve.save(ts=ts)"
   ]
  },
  {
   "attachments": {},
   "cell_type": "markdown",
   "metadata": {},
   "source": [
    "### [Curve management system](http://docs.wsight.org/services/wapi-python-extensions/25-usage/#general-idea-of-curve-management)"
   ]
  },
  {
   "cell_type": "code",
   "execution_count": null,
   "metadata": {},
   "outputs": [],
   "source": []
  }
 ],
 "metadata": {
  "kernelspec": {
   "display_name": "Python 3.9.13 ('wapi-py39')",
   "language": "python",
   "name": "python3"
  },
  "language_info": {
   "codemirror_mode": {
    "name": "ipython",
    "version": 3
   },
   "file_extension": ".py",
   "mimetype": "text/x-python",
   "name": "python",
   "nbconvert_exporter": "python",
   "pygments_lexer": "ipython3",
   "version": "3.9.13"
  },
  "vscode": {
   "interpreter": {
    "hash": "83f5e404c05ec43b9dd1d30832e26208047be11af19d987b329f61a312995040"
   }
  }
 },
 "nbformat": 4,
 "nbformat_minor": 2
}
